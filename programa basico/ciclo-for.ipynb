{
 "cells": [
  {
   "cell_type": "code",
   "execution_count": 1,
   "metadata": {},
   "outputs": [
    {
     "name": "stdout",
     "output_type": "stream",
     "text": [
      "los multiplos de tres 6 son:\n",
      "3\n",
      "6\n"
     ]
    }
   ],
   "source": [
    "# El usuario ingresa el límite de datos recopilados \n",
    "limit = int(input(\"Ingresa un número mayor a 3\")) \n",
    "# Muestra los números positivos en múltiplos de 3 \n",
    "print(\"los multiplos de tres\", limit, \"son:\") \n",
    "for i in range(3, limit + 1, 3): \n",
    "    print(i)"
   ]
  }
 ],
 "metadata": {
  "kernelspec": {
   "display_name": "Python 3.8.10 64-bit",
   "language": "python",
   "name": "python3"
  },
  "language_info": {
   "codemirror_mode": {
    "name": "ipython",
    "version": 3
   },
   "file_extension": ".py",
   "mimetype": "text/x-python",
   "name": "python",
   "nbconvert_exporter": "python",
   "pygments_lexer": "ipython3",
   "version": "3.8.10"
  },
  "orig_nbformat": 4,
  "vscode": {
   "interpreter": {
    "hash": "916dbcbb3f70747c44a77c7bcd40155683ae19c65e1c03b4aa3499c5328201f1"
   }
  }
 },
 "nbformat": 4,
 "nbformat_minor": 2
}
